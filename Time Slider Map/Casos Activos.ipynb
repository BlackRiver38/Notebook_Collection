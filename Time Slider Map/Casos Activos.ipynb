{
 "cells": [
  {
   "cell_type": "markdown",
   "metadata": {},
   "source": [
    "# Visualizar progreso de casos activos de COVID-19 en Chile"
   ]
  },
  {
   "cell_type": "markdown",
   "metadata": {},
   "source": [
    "## Introducción"
   ]
  },
  {
   "cell_type": "markdown",
   "metadata": {},
   "source": [
    "*El objetivo de este Notebook es utilizar la herramienta de la librería Folium para crear un mapa coroplético con una barra deslizante de tiempo y así poder observar de forma interactiva el progreso de los casos activos de COVID-19 en Chile actualizando la información conforme se va agregando al repositorio fuente.*\n",
    "\n",
    "**Si el concepto de mapa coroplético con barra deslizante de tiempo no queda del todo claro (y no culparía a nadie por ello) podemos ver un ejemplo gráfico a continuación:**"
   ]
  },
  {
   "cell_type": "markdown",
   "metadata": {},
   "source": [
    "<div style=\"margin:1px auto, position: absolute\">\n",
    "<img src=\"image/200823 Chile.gif\" width=\"800\" height=\"300\" align=\"center\"/>\n",
    "</div>"
   ]
  },
  {
   "cell_type": "markdown",
   "metadata": {},
   "source": [
    "**Es este en efecto el mapa que generaremos en el transcurso de este Notebook**\n",
    "\n",
    "Habiendo dicho esto y para llegar a ello, vamos a comenzar explorando la data que el Ministerio de Ciencia ha puesto a disposición en su repositorio de **GitHub**. Dicho repositorio está disponible aquí:\n",
    "\n",
    "https://github.com/MinCiencia/Datos-COVID19\n",
    "\n",
    "Será necesario importar algunas librerías, pero antes una **nota importante** :\n",
    "\n",
    "**Como vamos a utilizar geopandas es altamente recomendable crear un entorno especial para esta herramienta.**"
   ]
  },
  {
   "cell_type": "code",
   "execution_count": 1,
   "metadata": {},
   "outputs": [],
   "source": [
    "from IPython.display import IFrame\n",
    "\n",
    "import numpy as np\n",
    "import pandas as pd\n",
    "import geopandas as gp\n",
    "\n",
    "import matplotlib\n",
    "import matplotlib.pyplot as plt\n",
    "\n",
    "import folium\n",
    "from folium.plugins import TimeSliderChoropleth\n",
    "\n",
    "from datetime import datetime\n",
    "from colour import Color"
   ]
  },
  {
   "cell_type": "markdown",
   "metadata": {},
   "source": [
    "# Exploración y tratamiento de datos"
   ]
  },
  {
   "cell_type": "markdown",
   "metadata": {},
   "source": [
    "**Vamos a importar el Producto 19 que se define como:**\n",
    "\n",
    "\" Archivo que da cuenta del número de casos confirmados activos notificados en cada una de las comunas de Chile, según residencia, y concatena la historia de los informes epidemiológicos publicados por el Ministerio de Salud del país. [...]\""
   ]
  },
  {
   "cell_type": "code",
   "execution_count": 2,
   "metadata": {},
   "outputs": [
    {
     "data": {
      "text/html": [
       "<div>\n",
       "<style scoped>\n",
       "    .dataframe tbody tr th:only-of-type {\n",
       "        vertical-align: middle;\n",
       "    }\n",
       "\n",
       "    .dataframe tbody tr th {\n",
       "        vertical-align: top;\n",
       "    }\n",
       "\n",
       "    .dataframe thead th {\n",
       "        text-align: right;\n",
       "    }\n",
       "</style>\n",
       "<table border=\"1\" class=\"dataframe\">\n",
       "  <thead>\n",
       "    <tr style=\"text-align: right;\">\n",
       "      <th></th>\n",
       "      <th>Region</th>\n",
       "      <th>Codigo region</th>\n",
       "      <th>Comuna</th>\n",
       "      <th>Codigo comuna</th>\n",
       "      <th>Poblacion</th>\n",
       "      <th>2020-04-13</th>\n",
       "      <th>2020-04-15</th>\n",
       "      <th>2020-04-17</th>\n",
       "      <th>2020-04-20</th>\n",
       "      <th>2020-04-24</th>\n",
       "      <th>...</th>\n",
       "      <th>2020-06-15</th>\n",
       "      <th>2020-06-19</th>\n",
       "      <th>2020-06-23</th>\n",
       "      <th>2020-06-28</th>\n",
       "      <th>2020-07-01</th>\n",
       "      <th>2020-07-05</th>\n",
       "      <th>2020-07-10</th>\n",
       "      <th>2020-07-13</th>\n",
       "      <th>2020-07-17</th>\n",
       "      <th>2020-07-20</th>\n",
       "    </tr>\n",
       "  </thead>\n",
       "  <tbody>\n",
       "    <tr>\n",
       "      <th>0</th>\n",
       "      <td>Arica y Parinacota</td>\n",
       "      <td>15</td>\n",
       "      <td>Arica</td>\n",
       "      <td>15101.0</td>\n",
       "      <td>247552.0</td>\n",
       "      <td>88.0</td>\n",
       "      <td>80.0</td>\n",
       "      <td>72.0</td>\n",
       "      <td>65.0</td>\n",
       "      <td>77.0</td>\n",
       "      <td>...</td>\n",
       "      <td>353.0</td>\n",
       "      <td>358.0</td>\n",
       "      <td>381.0</td>\n",
       "      <td>408.0</td>\n",
       "      <td>406.0</td>\n",
       "      <td>495.0</td>\n",
       "      <td>575.0</td>\n",
       "      <td>655.0</td>\n",
       "      <td>818.0</td>\n",
       "      <td>859.0</td>\n",
       "    </tr>\n",
       "    <tr>\n",
       "      <th>1</th>\n",
       "      <td>Arica y Parinacota</td>\n",
       "      <td>15</td>\n",
       "      <td>Camarones</td>\n",
       "      <td>15102.0</td>\n",
       "      <td>1233.0</td>\n",
       "      <td>0.0</td>\n",
       "      <td>0.0</td>\n",
       "      <td>0.0</td>\n",
       "      <td>0.0</td>\n",
       "      <td>0.0</td>\n",
       "      <td>...</td>\n",
       "      <td>0.0</td>\n",
       "      <td>0.0</td>\n",
       "      <td>0.0</td>\n",
       "      <td>0.0</td>\n",
       "      <td>0.0</td>\n",
       "      <td>0.0</td>\n",
       "      <td>0.0</td>\n",
       "      <td>8.0</td>\n",
       "      <td>12.0</td>\n",
       "      <td>12.0</td>\n",
       "    </tr>\n",
       "    <tr>\n",
       "      <th>2</th>\n",
       "      <td>Arica y Parinacota</td>\n",
       "      <td>15</td>\n",
       "      <td>General Lagos</td>\n",
       "      <td>15202.0</td>\n",
       "      <td>810.0</td>\n",
       "      <td>0.0</td>\n",
       "      <td>0.0</td>\n",
       "      <td>0.0</td>\n",
       "      <td>0.0</td>\n",
       "      <td>0.0</td>\n",
       "      <td>...</td>\n",
       "      <td>0.0</td>\n",
       "      <td>0.0</td>\n",
       "      <td>0.0</td>\n",
       "      <td>0.0</td>\n",
       "      <td>0.0</td>\n",
       "      <td>0.0</td>\n",
       "      <td>0.0</td>\n",
       "      <td>0.0</td>\n",
       "      <td>0.0</td>\n",
       "      <td>0.0</td>\n",
       "    </tr>\n",
       "    <tr>\n",
       "      <th>3</th>\n",
       "      <td>Arica y Parinacota</td>\n",
       "      <td>15</td>\n",
       "      <td>Putre</td>\n",
       "      <td>15201.0</td>\n",
       "      <td>2515.0</td>\n",
       "      <td>0.0</td>\n",
       "      <td>0.0</td>\n",
       "      <td>0.0</td>\n",
       "      <td>0.0</td>\n",
       "      <td>0.0</td>\n",
       "      <td>...</td>\n",
       "      <td>3.0</td>\n",
       "      <td>8.0</td>\n",
       "      <td>7.0</td>\n",
       "      <td>1.0</td>\n",
       "      <td>1.0</td>\n",
       "      <td>1.0</td>\n",
       "      <td>15.0</td>\n",
       "      <td>17.0</td>\n",
       "      <td>15.0</td>\n",
       "      <td>12.0</td>\n",
       "    </tr>\n",
       "    <tr>\n",
       "      <th>4</th>\n",
       "      <td>Arica y Parinacota</td>\n",
       "      <td>15</td>\n",
       "      <td>Desconocido Arica y Parinacota</td>\n",
       "      <td>NaN</td>\n",
       "      <td>NaN</td>\n",
       "      <td>NaN</td>\n",
       "      <td>NaN</td>\n",
       "      <td>NaN</td>\n",
       "      <td>NaN</td>\n",
       "      <td>NaN</td>\n",
       "      <td>...</td>\n",
       "      <td>NaN</td>\n",
       "      <td>0.0</td>\n",
       "      <td>0.0</td>\n",
       "      <td>1.0</td>\n",
       "      <td>0.0</td>\n",
       "      <td>0.0</td>\n",
       "      <td>1.0</td>\n",
       "      <td>1.0</td>\n",
       "      <td>3.0</td>\n",
       "      <td>3.0</td>\n",
       "    </tr>\n",
       "  </tbody>\n",
       "</table>\n",
       "<p>5 rows × 34 columns</p>\n",
       "</div>"
      ],
      "text/plain": [
       "               Region  Codigo region                          Comuna  \\\n",
       "0  Arica y Parinacota             15                           Arica   \n",
       "1  Arica y Parinacota             15                       Camarones   \n",
       "2  Arica y Parinacota             15                   General Lagos   \n",
       "3  Arica y Parinacota             15                           Putre   \n",
       "4  Arica y Parinacota             15  Desconocido Arica y Parinacota   \n",
       "\n",
       "   Codigo comuna  Poblacion  2020-04-13  2020-04-15  2020-04-17  2020-04-20  \\\n",
       "0        15101.0   247552.0        88.0        80.0        72.0        65.0   \n",
       "1        15102.0     1233.0         0.0         0.0         0.0         0.0   \n",
       "2        15202.0      810.0         0.0         0.0         0.0         0.0   \n",
       "3        15201.0     2515.0         0.0         0.0         0.0         0.0   \n",
       "4            NaN        NaN         NaN         NaN         NaN         NaN   \n",
       "\n",
       "   2020-04-24  ...  2020-06-15  2020-06-19  2020-06-23  2020-06-28  \\\n",
       "0        77.0  ...       353.0       358.0       381.0       408.0   \n",
       "1         0.0  ...         0.0         0.0         0.0         0.0   \n",
       "2         0.0  ...         0.0         0.0         0.0         0.0   \n",
       "3         0.0  ...         3.0         8.0         7.0         1.0   \n",
       "4         NaN  ...         NaN         0.0         0.0         1.0   \n",
       "\n",
       "   2020-07-01  2020-07-05  2020-07-10  2020-07-13  2020-07-17  2020-07-20  \n",
       "0       406.0       495.0       575.0       655.0       818.0       859.0  \n",
       "1         0.0         0.0         0.0         8.0        12.0        12.0  \n",
       "2         0.0         0.0         0.0         0.0         0.0         0.0  \n",
       "3         1.0         1.0        15.0        17.0        15.0        12.0  \n",
       "4         0.0         0.0         1.0         1.0         3.0         3.0  \n",
       "\n",
       "[5 rows x 34 columns]"
      ]
     },
     "execution_count": 2,
     "metadata": {},
     "output_type": "execute_result"
    }
   ],
   "source": [
    "df = pd.read_csv(\"https://raw.githubusercontent.com/MinCiencia/Datos-COVID19/master/output/producto19/CasosActivosPorComuna.csv\",header=0)\n",
    "df.head()"
   ]
  },
  {
   "cell_type": "markdown",
   "metadata": {},
   "source": [
    "----\n",
    "De momento podemos observar que los valores para cada registro fecha son representados por una columna para cada uno y que ciertas columnas tienen valores nulos (*NaN*). \n",
    "\n",
    "Podemos ver también que los nombres de las comunas utilizan tildes y tienen espacios, crearemos una función para llevar estos nombres a un formato más uniforme sin perder la información original:"
   ]
  },
  {
   "cell_type": "code",
   "execution_count": 3,
   "metadata": {},
   "outputs": [],
   "source": [
    "import unicodedata\n",
    "\n",
    "def elimina_tildes(cadena):\n",
    "    s = ''.join((c for c in unicodedata.normalize('NFD',cadena) if unicodedata.category(c) != 'Mn'))\n",
    "    s = s.replace(\" \", \"_\")\n",
    "    return s"
   ]
  },
  {
   "cell_type": "code",
   "execution_count": 4,
   "metadata": {},
   "outputs": [],
   "source": [
    "df['Comuna_Clean'] = df['Comuna'].apply(lambda x: elimina_tildes(x))"
   ]
  },
  {
   "cell_type": "markdown",
   "metadata": {},
   "source": [
    "A continuación, queda como comentario una alternativa para filtrar por región para que el archivo final no sea tan pesado. Notar que la columna que creamos \"Comuna_Clean\" aparece al final de las columnas."
   ]
  },
  {
   "cell_type": "code",
   "execution_count": 5,
   "metadata": {},
   "outputs": [
    {
     "data": {
      "text/html": [
       "<div>\n",
       "<style scoped>\n",
       "    .dataframe tbody tr th:only-of-type {\n",
       "        vertical-align: middle;\n",
       "    }\n",
       "\n",
       "    .dataframe tbody tr th {\n",
       "        vertical-align: top;\n",
       "    }\n",
       "\n",
       "    .dataframe thead th {\n",
       "        text-align: right;\n",
       "    }\n",
       "</style>\n",
       "<table border=\"1\" class=\"dataframe\">\n",
       "  <thead>\n",
       "    <tr style=\"text-align: right;\">\n",
       "      <th></th>\n",
       "      <th>Region</th>\n",
       "      <th>Comuna</th>\n",
       "      <th>Codigo comuna</th>\n",
       "      <th>Poblacion</th>\n",
       "      <th>2020-04-13</th>\n",
       "      <th>2020-04-15</th>\n",
       "      <th>2020-04-17</th>\n",
       "      <th>2020-04-20</th>\n",
       "      <th>2020-04-24</th>\n",
       "      <th>2020-04-27</th>\n",
       "      <th>...</th>\n",
       "      <th>2020-06-19</th>\n",
       "      <th>2020-06-23</th>\n",
       "      <th>2020-06-28</th>\n",
       "      <th>2020-07-01</th>\n",
       "      <th>2020-07-05</th>\n",
       "      <th>2020-07-10</th>\n",
       "      <th>2020-07-13</th>\n",
       "      <th>2020-07-17</th>\n",
       "      <th>2020-07-20</th>\n",
       "      <th>Comuna_Clean</th>\n",
       "    </tr>\n",
       "  </thead>\n",
       "  <tbody>\n",
       "    <tr>\n",
       "      <th>0</th>\n",
       "      <td>Arica y Parinacota</td>\n",
       "      <td>Arica</td>\n",
       "      <td>15101</td>\n",
       "      <td>247552.0</td>\n",
       "      <td>88.0</td>\n",
       "      <td>80.0</td>\n",
       "      <td>72.0</td>\n",
       "      <td>65.0</td>\n",
       "      <td>77.0</td>\n",
       "      <td>103.0</td>\n",
       "      <td>...</td>\n",
       "      <td>358.0</td>\n",
       "      <td>381.0</td>\n",
       "      <td>408.0</td>\n",
       "      <td>406.0</td>\n",
       "      <td>495.0</td>\n",
       "      <td>575.0</td>\n",
       "      <td>655.0</td>\n",
       "      <td>818.0</td>\n",
       "      <td>859.0</td>\n",
       "      <td>Arica</td>\n",
       "    </tr>\n",
       "    <tr>\n",
       "      <th>1</th>\n",
       "      <td>Arica y Parinacota</td>\n",
       "      <td>Camarones</td>\n",
       "      <td>15102</td>\n",
       "      <td>1233.0</td>\n",
       "      <td>0.0</td>\n",
       "      <td>0.0</td>\n",
       "      <td>0.0</td>\n",
       "      <td>0.0</td>\n",
       "      <td>0.0</td>\n",
       "      <td>0.0</td>\n",
       "      <td>...</td>\n",
       "      <td>0.0</td>\n",
       "      <td>0.0</td>\n",
       "      <td>0.0</td>\n",
       "      <td>0.0</td>\n",
       "      <td>0.0</td>\n",
       "      <td>0.0</td>\n",
       "      <td>8.0</td>\n",
       "      <td>12.0</td>\n",
       "      <td>12.0</td>\n",
       "      <td>Camarones</td>\n",
       "    </tr>\n",
       "    <tr>\n",
       "      <th>2</th>\n",
       "      <td>Arica y Parinacota</td>\n",
       "      <td>General Lagos</td>\n",
       "      <td>15202</td>\n",
       "      <td>810.0</td>\n",
       "      <td>0.0</td>\n",
       "      <td>0.0</td>\n",
       "      <td>0.0</td>\n",
       "      <td>0.0</td>\n",
       "      <td>0.0</td>\n",
       "      <td>0.0</td>\n",
       "      <td>...</td>\n",
       "      <td>0.0</td>\n",
       "      <td>0.0</td>\n",
       "      <td>0.0</td>\n",
       "      <td>0.0</td>\n",
       "      <td>0.0</td>\n",
       "      <td>0.0</td>\n",
       "      <td>0.0</td>\n",
       "      <td>0.0</td>\n",
       "      <td>0.0</td>\n",
       "      <td>General_Lagos</td>\n",
       "    </tr>\n",
       "    <tr>\n",
       "      <th>3</th>\n",
       "      <td>Arica y Parinacota</td>\n",
       "      <td>Putre</td>\n",
       "      <td>15201</td>\n",
       "      <td>2515.0</td>\n",
       "      <td>0.0</td>\n",
       "      <td>0.0</td>\n",
       "      <td>0.0</td>\n",
       "      <td>0.0</td>\n",
       "      <td>0.0</td>\n",
       "      <td>0.0</td>\n",
       "      <td>...</td>\n",
       "      <td>8.0</td>\n",
       "      <td>7.0</td>\n",
       "      <td>1.0</td>\n",
       "      <td>1.0</td>\n",
       "      <td>1.0</td>\n",
       "      <td>15.0</td>\n",
       "      <td>17.0</td>\n",
       "      <td>15.0</td>\n",
       "      <td>12.0</td>\n",
       "      <td>Putre</td>\n",
       "    </tr>\n",
       "    <tr>\n",
       "      <th>4</th>\n",
       "      <td>Arica y Parinacota</td>\n",
       "      <td>Desconocido Arica y Parinacota</td>\n",
       "      <td>0</td>\n",
       "      <td>0.0</td>\n",
       "      <td>0.0</td>\n",
       "      <td>0.0</td>\n",
       "      <td>0.0</td>\n",
       "      <td>0.0</td>\n",
       "      <td>0.0</td>\n",
       "      <td>0.0</td>\n",
       "      <td>...</td>\n",
       "      <td>0.0</td>\n",
       "      <td>0.0</td>\n",
       "      <td>1.0</td>\n",
       "      <td>0.0</td>\n",
       "      <td>0.0</td>\n",
       "      <td>1.0</td>\n",
       "      <td>1.0</td>\n",
       "      <td>3.0</td>\n",
       "      <td>3.0</td>\n",
       "      <td>Desconocido_Arica_y_Parinacota</td>\n",
       "    </tr>\n",
       "  </tbody>\n",
       "</table>\n",
       "<p>5 rows × 34 columns</p>\n",
       "</div>"
      ],
      "text/plain": [
       "               Region                          Comuna  Codigo comuna  \\\n",
       "0  Arica y Parinacota                           Arica          15101   \n",
       "1  Arica y Parinacota                       Camarones          15102   \n",
       "2  Arica y Parinacota                   General Lagos          15202   \n",
       "3  Arica y Parinacota                           Putre          15201   \n",
       "4  Arica y Parinacota  Desconocido Arica y Parinacota              0   \n",
       "\n",
       "   Poblacion  2020-04-13  2020-04-15  2020-04-17  2020-04-20  2020-04-24  \\\n",
       "0   247552.0        88.0        80.0        72.0        65.0        77.0   \n",
       "1     1233.0         0.0         0.0         0.0         0.0         0.0   \n",
       "2      810.0         0.0         0.0         0.0         0.0         0.0   \n",
       "3     2515.0         0.0         0.0         0.0         0.0         0.0   \n",
       "4        0.0         0.0         0.0         0.0         0.0         0.0   \n",
       "\n",
       "   2020-04-27  ...  2020-06-19  2020-06-23  2020-06-28  2020-07-01  \\\n",
       "0       103.0  ...       358.0       381.0       408.0       406.0   \n",
       "1         0.0  ...         0.0         0.0         0.0         0.0   \n",
       "2         0.0  ...         0.0         0.0         0.0         0.0   \n",
       "3         0.0  ...         8.0         7.0         1.0         1.0   \n",
       "4         0.0  ...         0.0         0.0         1.0         0.0   \n",
       "\n",
       "   2020-07-05  2020-07-10  2020-07-13  2020-07-17  2020-07-20  \\\n",
       "0       495.0       575.0       655.0       818.0       859.0   \n",
       "1         0.0         0.0         8.0        12.0        12.0   \n",
       "2         0.0         0.0         0.0         0.0         0.0   \n",
       "3         1.0        15.0        17.0        15.0        12.0   \n",
       "4         0.0         1.0         1.0         3.0         3.0   \n",
       "\n",
       "                     Comuna_Clean  \n",
       "0                           Arica  \n",
       "1                       Camarones  \n",
       "2                   General_Lagos  \n",
       "3                           Putre  \n",
       "4  Desconocido_Arica_y_Parinacota  \n",
       "\n",
       "[5 rows x 34 columns]"
      ]
     },
     "execution_count": 5,
     "metadata": {},
     "output_type": "execute_result"
    }
   ],
   "source": [
    "#df_metro = df[df['Region'] == 'Metropolitana'].copy()\n",
    "df_chile = df.copy()\n",
    "df_chile.drop(columns={'Codigo region'}, inplace=True)\n",
    "df_chile.fillna(value=0, inplace=True)\n",
    "df_chile['Codigo comuna'] = df_chile['Codigo comuna'].astype(int)\n",
    "df_chile.head()"
   ]
  },
  {
   "cell_type": "markdown",
   "metadata": {},
   "source": [
    "----\n",
    "Vamos a crear un **dataframe** (**df**) que almacene el diccionario de nombres de comuna con su respectivo código comunal:"
   ]
  },
  {
   "cell_type": "code",
   "execution_count": 6,
   "metadata": {},
   "outputs": [
    {
     "data": {
      "text/html": [
       "<div>\n",
       "<style scoped>\n",
       "    .dataframe tbody tr th:only-of-type {\n",
       "        vertical-align: middle;\n",
       "    }\n",
       "\n",
       "    .dataframe tbody tr th {\n",
       "        vertical-align: top;\n",
       "    }\n",
       "\n",
       "    .dataframe thead th {\n",
       "        text-align: right;\n",
       "    }\n",
       "</style>\n",
       "<table border=\"1\" class=\"dataframe\">\n",
       "  <thead>\n",
       "    <tr style=\"text-align: right;\">\n",
       "      <th></th>\n",
       "      <th>Comuna_Clean</th>\n",
       "      <th>Codigo comuna</th>\n",
       "    </tr>\n",
       "  </thead>\n",
       "  <tbody>\n",
       "    <tr>\n",
       "      <th>0</th>\n",
       "      <td>Arica</td>\n",
       "      <td>15101</td>\n",
       "    </tr>\n",
       "    <tr>\n",
       "      <th>1</th>\n",
       "      <td>Camarones</td>\n",
       "      <td>15102</td>\n",
       "    </tr>\n",
       "    <tr>\n",
       "      <th>2</th>\n",
       "      <td>General_Lagos</td>\n",
       "      <td>15202</td>\n",
       "    </tr>\n",
       "    <tr>\n",
       "      <th>3</th>\n",
       "      <td>Putre</td>\n",
       "      <td>15201</td>\n",
       "    </tr>\n",
       "    <tr>\n",
       "      <th>4</th>\n",
       "      <td>Desconocido_Arica_y_Parinacota</td>\n",
       "      <td>0</td>\n",
       "    </tr>\n",
       "  </tbody>\n",
       "</table>\n",
       "</div>"
      ],
      "text/plain": [
       "                     Comuna_Clean  Codigo comuna\n",
       "0                           Arica          15101\n",
       "1                       Camarones          15102\n",
       "2                   General_Lagos          15202\n",
       "3                           Putre          15201\n",
       "4  Desconocido_Arica_y_Parinacota              0"
      ]
     },
     "execution_count": 6,
     "metadata": {},
     "output_type": "execute_result"
    }
   ],
   "source": [
    "df_id_comunas = df_chile[['Comuna_Clean', 'Codigo comuna']].copy()\n",
    "df_id_comunas.dropna(inplace=True)\n",
    "df_id_comunas.head()"
   ]
  },
  {
   "cell_type": "markdown",
   "metadata": {},
   "source": [
    "---\n",
    "Como tenemos columnas representando las fechas, nos gustaría poder cambiar a un formato más estilo \"base de datos\" o \"despivoteado\" como coloquialmente se le conoce por lo que vamos a crear un nuevo **df** aplican la función **melt**:"
   ]
  },
  {
   "cell_type": "code",
   "execution_count": 7,
   "metadata": {},
   "outputs": [
    {
     "data": {
      "text/html": [
       "<div>\n",
       "<style scoped>\n",
       "    .dataframe tbody tr th:only-of-type {\n",
       "        vertical-align: middle;\n",
       "    }\n",
       "\n",
       "    .dataframe tbody tr th {\n",
       "        vertical-align: top;\n",
       "    }\n",
       "\n",
       "    .dataframe thead th {\n",
       "        text-align: right;\n",
       "    }\n",
       "</style>\n",
       "<table border=\"1\" class=\"dataframe\">\n",
       "  <thead>\n",
       "    <tr style=\"text-align: right;\">\n",
       "      <th></th>\n",
       "      <th>Comuna</th>\n",
       "      <th>Comuna_Clean</th>\n",
       "      <th>Codigo comuna</th>\n",
       "      <th>Poblacion</th>\n",
       "      <th>Region</th>\n",
       "      <th>fecha</th>\n",
       "      <th>Casos Activos</th>\n",
       "    </tr>\n",
       "  </thead>\n",
       "  <tbody>\n",
       "    <tr>\n",
       "      <th>0</th>\n",
       "      <td>Arica</td>\n",
       "      <td>Arica</td>\n",
       "      <td>15101</td>\n",
       "      <td>247552.0</td>\n",
       "      <td>Arica y Parinacota</td>\n",
       "      <td>2020-04-13</td>\n",
       "      <td>88.0</td>\n",
       "    </tr>\n",
       "    <tr>\n",
       "      <th>1</th>\n",
       "      <td>Camarones</td>\n",
       "      <td>Camarones</td>\n",
       "      <td>15102</td>\n",
       "      <td>1233.0</td>\n",
       "      <td>Arica y Parinacota</td>\n",
       "      <td>2020-04-13</td>\n",
       "      <td>0.0</td>\n",
       "    </tr>\n",
       "    <tr>\n",
       "      <th>2</th>\n",
       "      <td>General Lagos</td>\n",
       "      <td>General_Lagos</td>\n",
       "      <td>15202</td>\n",
       "      <td>810.0</td>\n",
       "      <td>Arica y Parinacota</td>\n",
       "      <td>2020-04-13</td>\n",
       "      <td>0.0</td>\n",
       "    </tr>\n",
       "    <tr>\n",
       "      <th>3</th>\n",
       "      <td>Putre</td>\n",
       "      <td>Putre</td>\n",
       "      <td>15201</td>\n",
       "      <td>2515.0</td>\n",
       "      <td>Arica y Parinacota</td>\n",
       "      <td>2020-04-13</td>\n",
       "      <td>0.0</td>\n",
       "    </tr>\n",
       "    <tr>\n",
       "      <th>4</th>\n",
       "      <td>Desconocido Arica y Parinacota</td>\n",
       "      <td>Desconocido_Arica_y_Parinacota</td>\n",
       "      <td>0</td>\n",
       "      <td>0.0</td>\n",
       "      <td>Arica y Parinacota</td>\n",
       "      <td>2020-04-13</td>\n",
       "      <td>0.0</td>\n",
       "    </tr>\n",
       "  </tbody>\n",
       "</table>\n",
       "</div>"
      ],
      "text/plain": [
       "                           Comuna                    Comuna_Clean  \\\n",
       "0                           Arica                           Arica   \n",
       "1                       Camarones                       Camarones   \n",
       "2                   General Lagos                   General_Lagos   \n",
       "3                           Putre                           Putre   \n",
       "4  Desconocido Arica y Parinacota  Desconocido_Arica_y_Parinacota   \n",
       "\n",
       "   Codigo comuna  Poblacion              Region       fecha  Casos Activos  \n",
       "0          15101   247552.0  Arica y Parinacota  2020-04-13           88.0  \n",
       "1          15102     1233.0  Arica y Parinacota  2020-04-13            0.0  \n",
       "2          15202      810.0  Arica y Parinacota  2020-04-13            0.0  \n",
       "3          15201     2515.0  Arica y Parinacota  2020-04-13            0.0  \n",
       "4              0        0.0  Arica y Parinacota  2020-04-13            0.0  "
      ]
     },
     "execution_count": 7,
     "metadata": {},
     "output_type": "execute_result"
    }
   ],
   "source": [
    "unpivoted = df_chile.melt(id_vars=['Comuna', 'Comuna_Clean' ,'Codigo comuna', 'Poblacion', 'Region'],\n",
    "                          var_name='fecha', value_name='Casos Activos')\n",
    "unpivoted.head()"
   ]
  },
  {
   "cell_type": "markdown",
   "metadata": {},
   "source": [
    "---\n",
    "Notar que reemplazamos los valores *NaN* por cero por simplicidad. Ahora creamos dos listas de valores únicos para las fechas y comunas:"
   ]
  },
  {
   "cell_type": "code",
   "execution_count": 8,
   "metadata": {},
   "outputs": [],
   "source": [
    "fechas = unpivoted.fecha.unique()\n",
    "comunas = unpivoted.Comuna.unique()"
   ]
  },
  {
   "cell_type": "markdown",
   "metadata": {},
   "source": [
    "Ahora vamos a ver como han progresado los datos de una comuna al azar:"
   ]
  },
  {
   "cell_type": "code",
   "execution_count": 11,
   "metadata": {},
   "outputs": [
    {
     "data": {
      "text/plain": [
       "<matplotlib.axes._subplots.AxesSubplot at 0x212d8197f10>"
      ]
     },
     "execution_count": 11,
     "metadata": {},
     "output_type": "execute_result"
    },
    {
     "data": {
      "image/png": "[encoded data removed]",
      "text/plain": [
       "<Figure size 720x360 with 1 Axes>"
      ]
     },
     "metadata": {
      "needs_background": "light"
     },
     "output_type": "display_data"
    }
   ],
   "source": [
    "#Comuna = 'Las Condes'\n",
    "Comuna = np.random.choice(comunas, 1, replace=False)[0]\n",
    "sample = unpivoted[unpivoted['Comuna'] == Comuna]\n",
    "sample.plot(x='fecha', y='Casos Activos', title=Comuna, figsize=(10,5))"
   ]
  },
  {
   "cell_type": "markdown",
   "metadata": {},
   "source": [
    "Ya contamos con la data en una forma fácil de trabajar, ahora hay que hacer el match entre esta información y un archivo que contenga los **inputs** necesarios para construir las formas de las comunas en un mapa."
   ]
  },
  {
   "cell_type": "markdown",
   "metadata": {},
   "source": [
    "# Cargar información de archivo de formas"
   ]
  },
  {
   "cell_type": "markdown",
   "metadata": {},
   "source": [
    "Para generar los polígonos que dan forma a las comunas en el mapa necesitamos recurrir a un conjunto de archivos de formas o **shape** que son también conocidos como mapas vectoriales. Para el caso de Chile esto archivos pueden encontrarse en la página de la Biblioteca del Congreso Nacional:\n",
    "\n",
    "https://www.bcn.cl/siit/mapas_vectoriales\n",
    "\n",
    "Como nuestro análisis se centra en las comunas, basta con descargar el archivo correspondiente a estas y, una vez descargado, descomprimirlo en la carpeta *Geo Info*.\n",
    "\n",
    "Estos archivos pueden ser cargados usando geopandas:\n",
    "\n",
    "**Nota 1: originalmente la estandarización de nombres de comunas era necesaria ya que el archivo de formas que utilice no tenía los códigos comunales así que era necesario hacer un **merge** con los nombres estandarizados. Con estos archivos más nuevos ya no es necesario pero decidí dejar la estandarización de todos modos por si resultáse útil en otros trabajos futuros.** \n",
    "\n",
    "**Nota 2: quedó comentado el comando para limitar el análisis a la provincia de Santiago.**"
   ]
  },
  {
   "cell_type": "code",
   "execution_count": 12,
   "metadata": {},
   "outputs": [
    {
     "data": {
      "text/plain": [
       "(346, 12)"
      ]
     },
     "execution_count": 12,
     "metadata": {},
     "output_type": "execute_result"
    }
   ],
   "source": [
    "shape = gp.read_file('Geo info/comunas.shp')\n",
    "#df_geo = shape[df_geo.NOM_PROV=='Santiago'].copy()\n",
    "df_geo = shape.copy()\n",
    "df_geo.shape"
   ]
  },
  {
   "cell_type": "code",
   "execution_count": 13,
   "metadata": {},
   "outputs": [
    {
     "data": {
      "text/html": [
       "<div>\n",
       "<style scoped>\n",
       "    .dataframe tbody tr th:only-of-type {\n",
       "        vertical-align: middle;\n",
       "    }\n",
       "\n",
       "    .dataframe tbody tr th {\n",
       "        vertical-align: top;\n",
       "    }\n",
       "\n",
       "    .dataframe thead th {\n",
       "        text-align: right;\n",
       "    }\n",
       "</style>\n",
       "<table border=\"1\" class=\"dataframe\">\n",
       "  <thead>\n",
       "    <tr style=\"text-align: right;\">\n",
       "      <th></th>\n",
       "      <th>objectid</th>\n",
       "      <th>shape_leng</th>\n",
       "      <th>dis_elec</th>\n",
       "      <th>cir_sena</th>\n",
       "      <th>cod_comuna</th>\n",
       "      <th>codregion</th>\n",
       "      <th>st_area_sh</th>\n",
       "      <th>st_length_</th>\n",
       "      <th>Region</th>\n",
       "      <th>Comuna</th>\n",
       "      <th>Provincia</th>\n",
       "      <th>geometry</th>\n",
       "    </tr>\n",
       "  </thead>\n",
       "  <tbody>\n",
       "    <tr>\n",
       "      <th>0</th>\n",
       "      <td>48</td>\n",
       "      <td>170038.624165</td>\n",
       "      <td>16</td>\n",
       "      <td>8</td>\n",
       "      <td>6204</td>\n",
       "      <td>6</td>\n",
       "      <td>9.685774e+08</td>\n",
       "      <td>206184.271675</td>\n",
       "      <td>Región del Libertador Bernardo O'Higgins</td>\n",
       "      <td>Marchigüe</td>\n",
       "      <td>Cardenal Caro</td>\n",
       "      <td>POLYGON ((-7992818.789 -4056669.319, -7992731....</td>\n",
       "    </tr>\n",
       "    <tr>\n",
       "      <th>1</th>\n",
       "      <td>29</td>\n",
       "      <td>125730.104795</td>\n",
       "      <td>15</td>\n",
       "      <td>8</td>\n",
       "      <td>6102</td>\n",
       "      <td>6</td>\n",
       "      <td>4.157446e+08</td>\n",
       "      <td>151911.576827</td>\n",
       "      <td>Región del Libertador Bernardo O'Higgins</td>\n",
       "      <td>Codegua</td>\n",
       "      <td>Cachapoal</td>\n",
       "      <td>POLYGON ((-7831651.813 -4022443.109, -7831596....</td>\n",
       "    </tr>\n",
       "  </tbody>\n",
       "</table>\n",
       "</div>"
      ],
      "text/plain": [
       "   objectid     shape_leng  dis_elec  cir_sena  cod_comuna  codregion  \\\n",
       "0        48  170038.624165        16         8        6204          6   \n",
       "1        29  125730.104795        15         8        6102          6   \n",
       "\n",
       "     st_area_sh     st_length_                                    Region  \\\n",
       "0  9.685774e+08  206184.271675  Región del Libertador Bernardo O'Higgins   \n",
       "1  4.157446e+08  151911.576827  Región del Libertador Bernardo O'Higgins   \n",
       "\n",
       "      Comuna      Provincia                                           geometry  \n",
       "0  Marchigüe  Cardenal Caro  POLYGON ((-7992818.789 -4056669.319, -7992731....  \n",
       "1    Codegua      Cachapoal  POLYGON ((-7831651.813 -4022443.109, -7831596....  "
      ]
     },
     "execution_count": 13,
     "metadata": {},
     "output_type": "execute_result"
    }
   ],
   "source": [
    "df_geo.head(2)"
   ]
  },
  {
   "cell_type": "markdown",
   "metadata": {},
   "source": [
    "---\n",
    "Las 346 comunas de Chile.\n",
    "\n",
    "Ahora vamos a revisar que cada código de comuna en el archivo del Ministerio coincida con una de las comunas. Para eso creamos listas únicas e iteramos."
   ]
  },
  {
   "cell_type": "code",
   "execution_count": 14,
   "metadata": {},
   "outputs": [],
   "source": [
    "geo_comunas_shp = list(df_geo['cod_comuna'].unique())\n",
    "geo_comunas_min = list(df_chile['Codigo comuna'].unique())"
   ]
  },
  {
   "cell_type": "code",
   "execution_count": 15,
   "metadata": {},
   "outputs": [
    {
     "data": {
      "text/plain": [
       "[12202, 0]"
      ]
     },
     "execution_count": 15,
     "metadata": {},
     "output_type": "execute_result"
    }
   ],
   "source": [
    "excluidas = []\n",
    "for c in geo_comunas_min:\n",
    "    if c not in geo_comunas_shp:\n",
    "        excluidas.append(c)\n",
    "\n",
    "excluidas.append(0)\n",
    "excluidas"
   ]
  },
  {
   "cell_type": "code",
   "execution_count": 16,
   "metadata": {},
   "outputs": [
    {
     "data": {
      "text/html": [
       "<div>\n",
       "<style scoped>\n",
       "    .dataframe tbody tr th:only-of-type {\n",
       "        vertical-align: middle;\n",
       "    }\n",
       "\n",
       "    .dataframe tbody tr th {\n",
       "        vertical-align: top;\n",
       "    }\n",
       "\n",
       "    .dataframe thead th {\n",
       "        text-align: right;\n",
       "    }\n",
       "</style>\n",
       "<table border=\"1\" class=\"dataframe\">\n",
       "  <thead>\n",
       "    <tr style=\"text-align: right;\">\n",
       "      <th></th>\n",
       "      <th>Region</th>\n",
       "      <th>Comuna</th>\n",
       "      <th>Codigo comuna</th>\n",
       "      <th>Poblacion</th>\n",
       "      <th>2020-04-13</th>\n",
       "      <th>2020-04-15</th>\n",
       "      <th>2020-04-17</th>\n",
       "      <th>2020-04-20</th>\n",
       "      <th>2020-04-24</th>\n",
       "      <th>2020-04-27</th>\n",
       "      <th>...</th>\n",
       "      <th>2020-06-19</th>\n",
       "      <th>2020-06-23</th>\n",
       "      <th>2020-06-28</th>\n",
       "      <th>2020-07-01</th>\n",
       "      <th>2020-07-05</th>\n",
       "      <th>2020-07-10</th>\n",
       "      <th>2020-07-13</th>\n",
       "      <th>2020-07-17</th>\n",
       "      <th>2020-07-20</th>\n",
       "      <th>Comuna_Clean</th>\n",
       "    </tr>\n",
       "  </thead>\n",
       "  <tbody>\n",
       "    <tr>\n",
       "      <th>365</th>\n",
       "      <td>Magallanes y la Antartica</td>\n",
       "      <td>Antartica</td>\n",
       "      <td>12202</td>\n",
       "      <td>137.0</td>\n",
       "      <td>0.0</td>\n",
       "      <td>0.0</td>\n",
       "      <td>0.0</td>\n",
       "      <td>0.0</td>\n",
       "      <td>0.0</td>\n",
       "      <td>0.0</td>\n",
       "      <td>...</td>\n",
       "      <td>0.0</td>\n",
       "      <td>0.0</td>\n",
       "      <td>0.0</td>\n",
       "      <td>0.0</td>\n",
       "      <td>0.0</td>\n",
       "      <td>0.0</td>\n",
       "      <td>0.0</td>\n",
       "      <td>0.0</td>\n",
       "      <td>0.0</td>\n",
       "      <td>Antartica</td>\n",
       "    </tr>\n",
       "  </tbody>\n",
       "</table>\n",
       "<p>1 rows × 34 columns</p>\n",
       "</div>"
      ],
      "text/plain": [
       "                        Region     Comuna  Codigo comuna  Poblacion  \\\n",
       "365  Magallanes y la Antartica  Antartica          12202      137.0   \n",
       "\n",
       "     2020-04-13  2020-04-15  2020-04-17  2020-04-20  2020-04-24  2020-04-27  \\\n",
       "365         0.0         0.0         0.0         0.0         0.0         0.0   \n",
       "\n",
       "     ...  2020-06-19  2020-06-23  2020-06-28  2020-07-01  2020-07-05  \\\n",
       "365  ...         0.0         0.0         0.0         0.0         0.0   \n",
       "\n",
       "     2020-07-10  2020-07-13  2020-07-17  2020-07-20  Comuna_Clean  \n",
       "365         0.0         0.0         0.0         0.0     Antartica  \n",
       "\n",
       "[1 rows x 34 columns]"
      ]
     },
     "execution_count": 16,
     "metadata": {},
     "output_type": "execute_result"
    }
   ],
   "source": [
    "df_chile.loc[df_chile['Codigo comuna'] == 12202]"
   ]
  },
  {
   "cell_type": "markdown",
   "metadata": {},
   "source": [
    "----\n",
    "Se impuso que 0 también quede excluido ya que es lo que por defecto viene asociado a la información de los \"desconocidos\" que según la documentación del Producto 19 corresponden a registros de personas que no vamos a incluir en este análisis. La razón por la cuál debe ser excluido manualmente es porque corresponde también a un \"zona sin demarcar\" en el **df** de formas que existe debido a que la comuna de Antártica no está delimitada aún, es por esto que tampoco la encontramos cuando buscamos por su código comunal.\n",
    "\n",
    "Ya con nuestros códigos comunales a excluir creamos el **df** final que utilizaremos:"
   ]
  },
  {
   "cell_type": "code",
   "execution_count": 17,
   "metadata": {},
   "outputs": [],
   "source": [
    "unpivoted['filtro'] = unpivoted['Codigo comuna'].apply(lambda x: x not in excluidas)\n",
    "final = unpivoted[unpivoted['filtro'] == True].copy()\n",
    "final.drop(columns={'filtro'}, inplace=True)\n",
    "final['Codigo comuna'] = final['Codigo comuna'].astype(int)"
   ]
  },
  {
   "cell_type": "code",
   "execution_count": 18,
   "metadata": {},
   "outputs": [
    {
     "data": {
      "text/plain": [
       "345"
      ]
     },
     "execution_count": 18,
     "metadata": {},
     "output_type": "execute_result"
    }
   ],
   "source": [
    "len(final.Comuna.unique())"
   ]
  },
  {
   "cell_type": "markdown",
   "metadata": {},
   "source": [
    "Con esto nos aseguramos que las dimensiones correspondan."
   ]
  },
  {
   "cell_type": "markdown",
   "metadata": {},
   "source": [
    "# Preparar la información para folium"
   ]
  },
  {
   "cell_type": "markdown",
   "metadata": {},
   "source": [
    "Lo primero que haremos en esta sección consta en algo más bien intuitivo que técnico. Como cada comuna tiene diferentes habitantes, una forma de estandarizar es mostrar la información cada mil habitantes:"
   ]
  },
  {
   "cell_type": "code",
   "execution_count": 19,
   "metadata": {},
   "outputs": [
    {
     "data": {
      "text/html": [
       "<div>\n",
       "<style scoped>\n",
       "    .dataframe tbody tr th:only-of-type {\n",
       "        vertical-align: middle;\n",
       "    }\n",
       "\n",
       "    .dataframe tbody tr th {\n",
       "        vertical-align: top;\n",
       "    }\n",
       "\n",
       "    .dataframe thead th {\n",
       "        text-align: right;\n",
       "    }\n",
       "</style>\n",
       "<table border=\"1\" class=\"dataframe\">\n",
       "  <thead>\n",
       "    <tr style=\"text-align: right;\">\n",
       "      <th></th>\n",
       "      <th>Comuna</th>\n",
       "      <th>Comuna_Clean</th>\n",
       "      <th>Codigo comuna</th>\n",
       "      <th>Poblacion</th>\n",
       "      <th>Region</th>\n",
       "      <th>fecha</th>\n",
       "      <th>Casos Activos</th>\n",
       "      <th>CA cada 1000</th>\n",
       "    </tr>\n",
       "  </thead>\n",
       "  <tbody>\n",
       "    <tr>\n",
       "      <th>0</th>\n",
       "      <td>Arica</td>\n",
       "      <td>Arica</td>\n",
       "      <td>15101</td>\n",
       "      <td>247552.0</td>\n",
       "      <td>Arica y Parinacota</td>\n",
       "      <td>2020-04-13</td>\n",
       "      <td>88.0</td>\n",
       "      <td>0.355481</td>\n",
       "    </tr>\n",
       "    <tr>\n",
       "      <th>1</th>\n",
       "      <td>Camarones</td>\n",
       "      <td>Camarones</td>\n",
       "      <td>15102</td>\n",
       "      <td>1233.0</td>\n",
       "      <td>Arica y Parinacota</td>\n",
       "      <td>2020-04-13</td>\n",
       "      <td>0.0</td>\n",
       "      <td>0.000000</td>\n",
       "    </tr>\n",
       "    <tr>\n",
       "      <th>2</th>\n",
       "      <td>General Lagos</td>\n",
       "      <td>General_Lagos</td>\n",
       "      <td>15202</td>\n",
       "      <td>810.0</td>\n",
       "      <td>Arica y Parinacota</td>\n",
       "      <td>2020-04-13</td>\n",
       "      <td>0.0</td>\n",
       "      <td>0.000000</td>\n",
       "    </tr>\n",
       "    <tr>\n",
       "      <th>3</th>\n",
       "      <td>Putre</td>\n",
       "      <td>Putre</td>\n",
       "      <td>15201</td>\n",
       "      <td>2515.0</td>\n",
       "      <td>Arica y Parinacota</td>\n",
       "      <td>2020-04-13</td>\n",
       "      <td>0.0</td>\n",
       "      <td>0.000000</td>\n",
       "    </tr>\n",
       "    <tr>\n",
       "      <th>6</th>\n",
       "      <td>Alto Hospicio</td>\n",
       "      <td>Alto_Hospicio</td>\n",
       "      <td>1107</td>\n",
       "      <td>129999.0</td>\n",
       "      <td>Tarapaca</td>\n",
       "      <td>2020-04-13</td>\n",
       "      <td>8.0</td>\n",
       "      <td>0.061539</td>\n",
       "    </tr>\n",
       "  </tbody>\n",
       "</table>\n",
       "</div>"
      ],
      "text/plain": [
       "          Comuna   Comuna_Clean  Codigo comuna  Poblacion              Region  \\\n",
       "0          Arica          Arica          15101   247552.0  Arica y Parinacota   \n",
       "1      Camarones      Camarones          15102     1233.0  Arica y Parinacota   \n",
       "2  General Lagos  General_Lagos          15202      810.0  Arica y Parinacota   \n",
       "3          Putre          Putre          15201     2515.0  Arica y Parinacota   \n",
       "6  Alto Hospicio  Alto_Hospicio           1107   129999.0            Tarapaca   \n",
       "\n",
       "        fecha  Casos Activos  CA cada 1000  \n",
       "0  2020-04-13           88.0      0.355481  \n",
       "1  2020-04-13            0.0      0.000000  \n",
       "2  2020-04-13            0.0      0.000000  \n",
       "3  2020-04-13            0.0      0.000000  \n",
       "6  2020-04-13            8.0      0.061539  "
      ]
     },
     "execution_count": 19,
     "metadata": {},
     "output_type": "execute_result"
    }
   ],
   "source": [
    "final['CA cada 1000'] = (final['Casos Activos'] / final['Poblacion'])*1000\n",
    "final.head()"
   ]
  },
  {
   "cell_type": "markdown",
   "metadata": {},
   "source": [
    "Ahora vamos a definir algunas funciones que nos van a ayudar a asignar colores a los diferentes valores según tramos. Aquí quiero dar las gracias al usuario de kaggle **python10am** por su repositorio en el cual me inspire fuertemente para estas funciones y la forma de estructurar la leyenda:\n",
    "\n",
    "https://www.kaggle.com/python10pm/covid-19-in-spain-by-regions-daily-update\n"
   ]
  },
  {
   "cell_type": "code",
   "execution_count": 20,
   "metadata": {},
   "outputs": [],
   "source": [
    "def get_hex_colors(value, cats):\n",
    "\n",
    "    base = Color(\"green\")\n",
    "    final = Color(\"red\")\n",
    "    n = len(cats)\n",
    "    colors = list(base.range_to(final,n+1))\n",
    "    r = range(0, n-1)\n",
    "    \n",
    "    for i in r:\n",
    "        if value in cats[i]:\n",
    "            return colors[i].hex\n",
    "        \n",
    "    return colors[n].hex"
   ]
  },
  {
   "cell_type": "code",
   "execution_count": 21,
   "metadata": {},
   "outputs": [],
   "source": [
    "def get_transparency(value, cats):\n",
    "    n = len(cats)\n",
    "    inicio = 0.4\n",
    "    final = 0.9\n",
    "    asdf = np.arange(inicio, final, (final - inicio)/n)\n",
    "    r = range(0, n-1)\n",
    "    \n",
    "    for i in r:\n",
    "        if value in cats[i]:\n",
    "            return asdf[i]\n",
    "    return asdf[n-1]"
   ]
  },
  {
   "cell_type": "markdown",
   "metadata": {},
   "source": [
    "Ahora vamos a preparar las fechas para el plugin de **Folium** que necesita un formato especial. Lo primero será asegurarnos que nuestra columna de fechas efectivamente esté en un formato de fechas:"
   ]
  },
  {
   "cell_type": "code",
   "execution_count": 22,
   "metadata": {},
   "outputs": [
    {
     "data": {
      "text/plain": [
       "Comuna            object\n",
       "Comuna_Clean      object\n",
       "Codigo comuna      int32\n",
       "Poblacion        float64\n",
       "Region            object\n",
       "fecha             object\n",
       "Casos Activos    float64\n",
       "CA cada 1000     float64\n",
       "dtype: object"
      ]
     },
     "execution_count": 22,
     "metadata": {},
     "output_type": "execute_result"
    }
   ],
   "source": [
    "final.dtypes"
   ]
  },
  {
   "cell_type": "markdown",
   "metadata": {},
   "source": [
    "---\n",
    "Vamos a aplicar una pequeña transformación dado que nuestra columna de fecha es de tipo objeto:"
   ]
  },
  {
   "cell_type": "code",
   "execution_count": 23,
   "metadata": {},
   "outputs": [
    {
     "data": {
      "text/plain": [
       "Comuna                   object\n",
       "Comuna_Clean             object\n",
       "Codigo comuna             int32\n",
       "Poblacion               float64\n",
       "Region                   object\n",
       "fecha            datetime64[ns]\n",
       "Casos Activos           float64\n",
       "CA cada 1000            float64\n",
       "dtype: object"
      ]
     },
     "execution_count": 23,
     "metadata": {},
     "output_type": "execute_result"
    }
   ],
   "source": [
    "final['fecha']=pd.to_datetime(final['fecha']).apply(lambda x: x + pd.DateOffset(days=0))\n",
    "final.dtypes"
   ]
  },
  {
   "cell_type": "markdown",
   "metadata": {},
   "source": [
    "---\n",
    "Luego vamos a crear el formato necesario convirtiendo la fecha a segundos:"
   ]
  },
  {
   "cell_type": "code",
   "execution_count": 24,
   "metadata": {},
   "outputs": [
    {
     "data": {
      "text/html": [
       "<div>\n",
       "<style scoped>\n",
       "    .dataframe tbody tr th:only-of-type {\n",
       "        vertical-align: middle;\n",
       "    }\n",
       "\n",
       "    .dataframe tbody tr th {\n",
       "        vertical-align: top;\n",
       "    }\n",
       "\n",
       "    .dataframe thead th {\n",
       "        text-align: right;\n",
       "    }\n",
       "</style>\n",
       "<table border=\"1\" class=\"dataframe\">\n",
       "  <thead>\n",
       "    <tr style=\"text-align: right;\">\n",
       "      <th></th>\n",
       "      <th>Comuna</th>\n",
       "      <th>Comuna_Clean</th>\n",
       "      <th>Codigo comuna</th>\n",
       "      <th>Poblacion</th>\n",
       "      <th>Region</th>\n",
       "      <th>fecha</th>\n",
       "      <th>Casos Activos</th>\n",
       "      <th>CA cada 1000</th>\n",
       "      <th>Date_for_Folium</th>\n",
       "    </tr>\n",
       "  </thead>\n",
       "  <tbody>\n",
       "    <tr>\n",
       "      <th>0</th>\n",
       "      <td>Arica</td>\n",
       "      <td>Arica</td>\n",
       "      <td>15101</td>\n",
       "      <td>247552.0</td>\n",
       "      <td>Arica y Parinacota</td>\n",
       "      <td>2020-04-13</td>\n",
       "      <td>88.0</td>\n",
       "      <td>0.355481</td>\n",
       "      <td>1586822400</td>\n",
       "    </tr>\n",
       "    <tr>\n",
       "      <th>1</th>\n",
       "      <td>Camarones</td>\n",
       "      <td>Camarones</td>\n",
       "      <td>15102</td>\n",
       "      <td>1233.0</td>\n",
       "      <td>Arica y Parinacota</td>\n",
       "      <td>2020-04-13</td>\n",
       "      <td>0.0</td>\n",
       "      <td>0.000000</td>\n",
       "      <td>1586822400</td>\n",
       "    </tr>\n",
       "    <tr>\n",
       "      <th>2</th>\n",
       "      <td>General Lagos</td>\n",
       "      <td>General_Lagos</td>\n",
       "      <td>15202</td>\n",
       "      <td>810.0</td>\n",
       "      <td>Arica y Parinacota</td>\n",
       "      <td>2020-04-13</td>\n",
       "      <td>0.0</td>\n",
       "      <td>0.000000</td>\n",
       "      <td>1586822400</td>\n",
       "    </tr>\n",
       "    <tr>\n",
       "      <th>3</th>\n",
       "      <td>Putre</td>\n",
       "      <td>Putre</td>\n",
       "      <td>15201</td>\n",
       "      <td>2515.0</td>\n",
       "      <td>Arica y Parinacota</td>\n",
       "      <td>2020-04-13</td>\n",
       "      <td>0.0</td>\n",
       "      <td>0.000000</td>\n",
       "      <td>1586822400</td>\n",
       "    </tr>\n",
       "    <tr>\n",
       "      <th>6</th>\n",
       "      <td>Alto Hospicio</td>\n",
       "      <td>Alto_Hospicio</td>\n",
       "      <td>1107</td>\n",
       "      <td>129999.0</td>\n",
       "      <td>Tarapaca</td>\n",
       "      <td>2020-04-13</td>\n",
       "      <td>8.0</td>\n",
       "      <td>0.061539</td>\n",
       "      <td>1586822400</td>\n",
       "    </tr>\n",
       "  </tbody>\n",
       "</table>\n",
       "</div>"
      ],
      "text/plain": [
       "          Comuna   Comuna_Clean  Codigo comuna  Poblacion              Region  \\\n",
       "0          Arica          Arica          15101   247552.0  Arica y Parinacota   \n",
       "1      Camarones      Camarones          15102     1233.0  Arica y Parinacota   \n",
       "2  General Lagos  General_Lagos          15202      810.0  Arica y Parinacota   \n",
       "3          Putre          Putre          15201     2515.0  Arica y Parinacota   \n",
       "6  Alto Hospicio  Alto_Hospicio           1107   129999.0            Tarapaca   \n",
       "\n",
       "       fecha  Casos Activos  CA cada 1000 Date_for_Folium  \n",
       "0 2020-04-13           88.0      0.355481      1586822400  \n",
       "1 2020-04-13            0.0      0.000000      1586822400  \n",
       "2 2020-04-13            0.0      0.000000      1586822400  \n",
       "3 2020-04-13            0.0      0.000000      1586822400  \n",
       "6 2020-04-13            8.0      0.061539      1586822400  "
      ]
     },
     "execution_count": 24,
     "metadata": {},
     "output_type": "execute_result"
    }
   ],
   "source": [
    "final['Date_for_Folium']=((final['fecha'].astype(np.int64) // 10**9) + 60*60*24).astype('U10')\n",
    "final.head()"
   ]
  },
  {
   "cell_type": "markdown",
   "metadata": {},
   "source": [
    "Ahora vamos a comenzar a asignar colores a los distintos valores. El valor de *n_tiles* es la cantidad de tramos que queremos usar:"
   ]
  },
  {
   "cell_type": "code",
   "execution_count": 25,
   "metadata": {},
   "outputs": [],
   "source": [
    "data_to_color = \"CA cada 1000\"\n",
    "n_tiles = 15\n",
    "cats, bins =  pd.qcut(final[data_to_color].unique()[np.argsort(final[data_to_color].unique())], \n",
    "                      q = n_tiles, retbins = True)\n",
    "cats = cats.unique()\n",
    "#cats"
   ]
  },
  {
   "cell_type": "markdown",
   "metadata": {},
   "source": [
    "---\n",
    "Creamos columnas para asociar los colores y la opacidad que crrespondan."
   ]
  },
  {
   "cell_type": "code",
   "execution_count": 26,
   "metadata": {},
   "outputs": [],
   "source": [
    "final[\"COLORS\"] = final[data_to_color].apply(get_hex_colors, args = [cats])\n",
    "final[\"OPACITY\"] = final[data_to_color].apply(get_transparency, args = [cats])"
   ]
  },
  {
   "cell_type": "code",
   "execution_count": 27,
   "metadata": {},
   "outputs": [
    {
     "data": {
      "text/html": [
       "<div>\n",
       "<style scoped>\n",
       "    .dataframe tbody tr th:only-of-type {\n",
       "        vertical-align: middle;\n",
       "    }\n",
       "\n",
       "    .dataframe tbody tr th {\n",
       "        vertical-align: top;\n",
       "    }\n",
       "\n",
       "    .dataframe thead th {\n",
       "        text-align: right;\n",
       "    }\n",
       "</style>\n",
       "<table border=\"1\" class=\"dataframe\">\n",
       "  <thead>\n",
       "    <tr style=\"text-align: right;\">\n",
       "      <th></th>\n",
       "      <th>Comuna</th>\n",
       "      <th>Comuna_Clean</th>\n",
       "      <th>Codigo comuna</th>\n",
       "      <th>Poblacion</th>\n",
       "      <th>Region</th>\n",
       "      <th>fecha</th>\n",
       "      <th>Casos Activos</th>\n",
       "      <th>CA cada 1000</th>\n",
       "      <th>Date_for_Folium</th>\n",
       "      <th>COLORS</th>\n",
       "      <th>OPACITY</th>\n",
       "    </tr>\n",
       "  </thead>\n",
       "  <tbody>\n",
       "    <tr>\n",
       "      <th>0</th>\n",
       "      <td>Arica</td>\n",
       "      <td>Arica</td>\n",
       "      <td>15101</td>\n",
       "      <td>247552.0</td>\n",
       "      <td>Arica y Parinacota</td>\n",
       "      <td>2020-04-13</td>\n",
       "      <td>88.0</td>\n",
       "      <td>0.355481</td>\n",
       "      <td>1586822400</td>\n",
       "      <td>#56a200</td>\n",
       "      <td>0.533333</td>\n",
       "    </tr>\n",
       "    <tr>\n",
       "      <th>1</th>\n",
       "      <td>Camarones</td>\n",
       "      <td>Camarones</td>\n",
       "      <td>15102</td>\n",
       "      <td>1233.0</td>\n",
       "      <td>Arica y Parinacota</td>\n",
       "      <td>2020-04-13</td>\n",
       "      <td>0.0</td>\n",
       "      <td>0.000000</td>\n",
       "      <td>1586822400</td>\n",
       "      <td>#008000</td>\n",
       "      <td>0.400000</td>\n",
       "    </tr>\n",
       "    <tr>\n",
       "      <th>2</th>\n",
       "      <td>General Lagos</td>\n",
       "      <td>General_Lagos</td>\n",
       "      <td>15202</td>\n",
       "      <td>810.0</td>\n",
       "      <td>Arica y Parinacota</td>\n",
       "      <td>2020-04-13</td>\n",
       "      <td>0.0</td>\n",
       "      <td>0.000000</td>\n",
       "      <td>1586822400</td>\n",
       "      <td>#008000</td>\n",
       "      <td>0.400000</td>\n",
       "    </tr>\n",
       "    <tr>\n",
       "      <th>3</th>\n",
       "      <td>Putre</td>\n",
       "      <td>Putre</td>\n",
       "      <td>15201</td>\n",
       "      <td>2515.0</td>\n",
       "      <td>Arica y Parinacota</td>\n",
       "      <td>2020-04-13</td>\n",
       "      <td>0.0</td>\n",
       "      <td>0.000000</td>\n",
       "      <td>1586822400</td>\n",
       "      <td>#008000</td>\n",
       "      <td>0.400000</td>\n",
       "    </tr>\n",
       "    <tr>\n",
       "      <th>6</th>\n",
       "      <td>Alto Hospicio</td>\n",
       "      <td>Alto_Hospicio</td>\n",
       "      <td>1107</td>\n",
       "      <td>129999.0</td>\n",
       "      <td>Tarapaca</td>\n",
       "      <td>2020-04-13</td>\n",
       "      <td>8.0</td>\n",
       "      <td>0.061539</td>\n",
       "      <td>1586822400</td>\n",
       "      <td>#008000</td>\n",
       "      <td>0.400000</td>\n",
       "    </tr>\n",
       "  </tbody>\n",
       "</table>\n",
       "</div>"
      ],
      "text/plain": [
       "          Comuna   Comuna_Clean  Codigo comuna  Poblacion              Region  \\\n",
       "0          Arica          Arica          15101   247552.0  Arica y Parinacota   \n",
       "1      Camarones      Camarones          15102     1233.0  Arica y Parinacota   \n",
       "2  General Lagos  General_Lagos          15202      810.0  Arica y Parinacota   \n",
       "3          Putre          Putre          15201     2515.0  Arica y Parinacota   \n",
       "6  Alto Hospicio  Alto_Hospicio           1107   129999.0            Tarapaca   \n",
       "\n",
       "       fecha  Casos Activos  CA cada 1000 Date_for_Folium   COLORS   OPACITY  \n",
       "0 2020-04-13           88.0      0.355481      1586822400  #56a200  0.533333  \n",
       "1 2020-04-13            0.0      0.000000      1586822400  #008000  0.400000  \n",
       "2 2020-04-13            0.0      0.000000      1586822400  #008000  0.400000  \n",
       "3 2020-04-13            0.0      0.000000      1586822400  #008000  0.400000  \n",
       "6 2020-04-13            8.0      0.061539      1586822400  #008000  0.400000  "
      ]
     },
     "execution_count": 27,
     "metadata": {},
     "output_type": "execute_result"
    }
   ],
   "source": [
    "final.head()"
   ]
  },
  {
   "cell_type": "markdown",
   "metadata": {},
   "source": [
    "---\n",
    "Ahora creamos listas en las que vamos a iterar para crear un tipo de diccionario que requiere **Folium**:"
   ]
  },
  {
   "cell_type": "code",
   "execution_count": 28,
   "metadata": {},
   "outputs": [],
   "source": [
    "cod_comunas = list(final[\"Codigo comuna\"].unique())\n",
    "fechas = list(final[\"Date_for_Folium\"].unique())"
   ]
  },
  {
   "cell_type": "code",
   "execution_count": 29,
   "metadata": {},
   "outputs": [],
   "source": [
    "styledict = {}\n",
    "\n",
    "for com in cod_comunas:\n",
    "    styledict[str(com)] = {date: {'color': final[(final[\"Codigo comuna\"] == com) & \n",
    "                                                 (final[\"Date_for_Folium\"] == date)][\"COLORS\"].values[0],\n",
    "                                   'opacity': final[(final[\"Codigo comuna\"] == com) &\n",
    "                                                    (final[\"Date_for_Folium\"] == date)][\"OPACITY\"].values[0]} for date in fechas}"
   ]
  },
  {
   "cell_type": "markdown",
   "metadata": {},
   "source": [
    "Ya estamos casi listos, es más podríamos crear el mapa con lo que tenemos, pero sería difícil de interpretar ya que no tendría leyenda."
   ]
  },
  {
   "cell_type": "markdown",
   "metadata": {},
   "source": [
    "# Crear leyenda para el mapa"
   ]
  },
  {
   "cell_type": "markdown",
   "metadata": {},
   "source": [
    "Vamos a replicar lo que al función **get_hex_colors** hace para tener un glosario de colores:"
   ]
  },
  {
   "cell_type": "code",
   "execution_count": 38,
   "metadata": {},
   "outputs": [],
   "source": [
    "color_base = Color(\"green\")\n",
    "color_final = Color(\"red\")\n",
    "n = len(cats)\n",
    "the_colors = list(color_base.range_to(color_final,n+1))\n",
    "rango = range(0, n-1)"
   ]
  },
  {
   "cell_type": "markdown",
   "metadata": {},
   "source": [
    "Lo que viene a continuación requiere de entender HTML pero básicamente vamos a crear una leyenda sencilla iterando sobre la lista *the_colors*. Quizás si el lector tiene experiencia en **webscrapping** esto le sea más familiar pero dejo de todos modos un módulo para insertar el nombre para la leyenda del mapa:"
   ]
  },
  {
   "cell_type": "code",
   "execution_count": 39,
   "metadata": {},
   "outputs": [],
   "source": [
    "tu_nombre =  \"Camilo Fuentes M.\"\n",
    "html_li_nombre =  \"<li>por \" + tu_nombre + \"</li>\""
   ]
  },
  {
   "cell_type": "code",
   "execution_count": 47,
   "metadata": {},
   "outputs": [],
   "source": [
    "parte1 = \"\"\"     \n",
    "    <li><span style='background:\n",
    "    \"\"\"\n",
    "parte2 = \"\"\"     \n",
    "    ;opacity:0.6;'></span>\n",
    "    \"\"\"\n",
    "parte3 =\"\"\"\n",
    "    </li>\n",
    "    \n",
    "    \"\"\"\n",
    "\n",
    "asdf2 = \"\"\n",
    "\n",
    "for r in rango:\n",
    "    descripcion = str(cats[r])\n",
    "    asdf2 = asdf2 + parte1 + the_colors[r].hex + parte2 + descripcion + parte3\n",
    "\n",
    "descripcion = '>' +str(cats[n-1].right)\n",
    "asdf2 = asdf2 + parte1 + the_colors[n].hex + parte2 + descripcion + parte3"
   ]
  },
  {
   "cell_type": "code",
   "execution_count": 48,
   "metadata": {},
   "outputs": [],
   "source": [
    "a = \"\"\"\n",
    "{% macro html(this, kwargs) %}\n",
    "\n",
    "<!doctype html>\n",
    "<html lang=\"en\">\n",
    "<head>\n",
    "  <meta charset=\"utf-8\">\n",
    "  <meta name=\"viewport\" content=\"width=device-width, initial-scale=1\">\n",
    "  <title>jQuery UI Draggable - Default functionality</title>\n",
    "  <link rel=\"stylesheet\" href=\"//code.jquery.com/ui/1.12.1/themes/base/jquery-ui.css\">\n",
    "\n",
    "  <script src=\"https://code.jquery.com/jquery-1.12.4.js\"></script>\n",
    "  <script src=\"https://code.jquery.com/ui/1.12.1/jquery-ui.js\"></script>\n",
    "  \n",
    "  <script>\n",
    "  $( function() {\n",
    "    $( \"#maplegend\" ).draggable({\n",
    "                    start: function (event, ui) {\n",
    "                        $(this).css({\n",
    "                            right: \"auto\",\n",
    "                            top: \"auto\",\n",
    "                            bottom: \"auto\"\n",
    "                        });\n",
    "                    }\n",
    "                });\n",
    "});\n",
    "\n",
    "  </script>\n",
    "</head>\n",
    "<body>\n",
    "\n",
    " \n",
    "<div id='maplegend' class='maplegend' \n",
    "    style='position: absolute; z-index:9999; border:2px solid grey; background-color:rgba(255, 255, 255, 0.9);\n",
    "     border-radius:6px; padding: 10px; font-size:14px; right: 20px; bottom: 20px;'>\n",
    "     \n",
    "<div class='legend-title'>Casos Actvos cada 1000 personas</div>\n",
    "<div class='legend-scale'>\n",
    "  <ul class='legend-labels'>\n",
    "\"\"\"\n",
    "\n",
    "b = \"\"\"\n",
    "  </ul>\n",
    "</div>\n",
    "</div>\n",
    " \n",
    "</body>\n",
    "</html>\n",
    "\n",
    "<style type='text/css'>\n",
    "  .maplegend .legend-title {\n",
    "    text-align: left;\n",
    "    margin-bottom: 5px;\n",
    "    font-weight: bold;\n",
    "    font-size: 90%;\n",
    "    }\n",
    "  .maplegend .legend-scale ul {\n",
    "    margin: 0;\n",
    "    margin-bottom: 5px;\n",
    "    padding: 0;\n",
    "    float: left;\n",
    "    list-style: none;\n",
    "    }\n",
    "  .maplegend .legend-scale ul li {\n",
    "    font-size: 80%;\n",
    "    list-style: none;\n",
    "    margin-left: 0;\n",
    "    line-height: 18px;\n",
    "    margin-bottom: 2px;\n",
    "    }\n",
    "  .maplegend ul.legend-labels li span {\n",
    "    display: block;\n",
    "    float: left;\n",
    "    height: 16px;\n",
    "    width: 30px;\n",
    "    margin-right: 5px;\n",
    "    margin-left: 0;\n",
    "    border: 1px solid #999;\n",
    "    }\n",
    "  .maplegend .legend-source {\n",
    "    font-size: 80%;\n",
    "    color: #777;\n",
    "    clear: both;\n",
    "    }\n",
    "  .maplegend a {\n",
    "    color: #777;\n",
    "    }\n",
    "</style>\n",
    "{% endmacro %}\"\"\"\n",
    "\n",
    "template = a + asdf2 + html_li_nombre + b"
   ]
  },
  {
   "cell_type": "markdown",
   "metadata": {},
   "source": [
    "# Crear el mapa"
   ]
  },
  {
   "cell_type": "markdown",
   "metadata": {},
   "source": [
    "Vamos a indicar el código comunal como índice y lo vamos a entregar como argumento junto a todo lo que ya hemos preparado y vamos a guardar el resultado en la carpeta *docs*:"
   ]
  },
  {
   "cell_type": "code",
   "execution_count": 49,
   "metadata": {},
   "outputs": [],
   "source": [
    "this = df_geo.set_index('cod_comuna')"
   ]
  },
  {
   "cell_type": "code",
   "execution_count": 50,
   "metadata": {},
   "outputs": [],
   "source": [
    "import branca.colormap as cm\n",
    "from branca.element import Template, MacroElement\n",
    "\n",
    "#Mapa que muestre gran parte del país.\n",
    "m = folium.Map(location=(-40, -71), tiles='Stamen Toner', zoom_start=4)\n",
    "\n",
    "#Agregar el plugin del mapa coroplético con barra deslizante de tiempo\n",
    "g = TimeSliderChoropleth(\n",
    "    this, # get's the coordinates for each id \n",
    "    styledict = styledict # styledict contains for each id the timestamp and the color to plot.\n",
    ")\n",
    "m.add_child(g)\n",
    "\n",
    "#Agregar la leyenda\n",
    "macro = MacroElement()\n",
    "macro._template = Template(template)\n",
    "m.get_root().add_child(macro)\n",
    "\n",
    "#Elegir la dirección\n",
    "html_location = './docs/Casos Activos COVID19 cada 1000 habitantes por Comunda de Chile.html' \n",
    "\n",
    "#Guardar el mapa.\n",
    "m.save(html_location)"
   ]
  },
  {
   "cell_type": "markdown",
   "metadata": {},
   "source": [
    "---\n",
    "*(Si aparece un mensaje de advertencia sobre **pyproj** es muy probable que la versión de **geopandas** del entorno no esté actualizada.)*\n",
    "\n",
    "Ahora veamos como queda finalmente le mapa!"
   ]
  },
  {
   "cell_type": "code",
   "execution_count": 51,
   "metadata": {},
   "outputs": [
    {
     "data": {
      "text/html": [
       "\n",
       "        <iframe\n",
       "            width=\"1000\"\n",
       "            height=\"600\"\n",
       "            src=\"./docs/Casos Activos COVID19 cada 1000 habitantes por Comunda de Chile.html\"\n",
       "            frameborder=\"0\"\n",
       "            allowfullscreen\n",
       "        ></iframe>\n",
       "        "
      ],
      "text/plain": [
       "<IPython.lib.display.IFrame at 0x212cd0d2310>"
      ]
     },
     "execution_count": 51,
     "metadata": {},
     "output_type": "execute_result"
    }
   ],
   "source": [
    "IFrame(src=html_location, width=1000, height=600)"
   ]
  },
  {
   "cell_type": "markdown",
   "metadata": {},
   "source": [
    "De esta manera podemos generar una herramienta de visualización comida e interactiva. No solo podemos enfocarnos en áreas usando el **zoom** si no que también podemos ver la evolución temporal con la barra. La limitante aquí es el tamaño de los archivos generados, pero si esto resulta problemático siempre existe la opción de utilizar la vía acotada a regiones y generar visualizaciones de sectores más específicos.\n",
    "\n",
    "Uno de los análisis que rápidamente podemos hacer es notar la presencia inicial de algo que podría parecer un **outlier** en la región de Tarapacá por su elevado valor en las primeras fechas:"
   ]
  },
  {
   "cell_type": "markdown",
   "metadata": {},
   "source": [
    "<div style=\"margin:1px auto, position: absolute\">\n",
    "<img src=\"image/200823 Tarapaca.gif\" width=\"800\" height=\"300\" align=\"center\"/>\n",
    "</div>"
   ]
  },
  {
   "cell_type": "markdown",
   "metadata": {},
   "source": [
    "Podemos hacer un enfoque en dicha zona de esta manera:"
   ]
  },
  {
   "cell_type": "code",
   "execution_count": null,
   "metadata": {},
   "outputs": [],
   "source": [
    "final[(final['fecha'] == '2020-04-13') & (final['Region'] == 'Tarapaca')]"
   ]
  },
  {
   "cell_type": "markdown",
   "metadata": {},
   "source": [
    "---\n",
    "Con esto notamos que corresponde a la comuna de Pica, usando el gráfico que construimos anteriormente podemos analizar más en detalle cómo ha sido la evolución en la Comuna:"
   ]
  },
  {
   "cell_type": "code",
   "execution_count": null,
   "metadata": {},
   "outputs": [],
   "source": [
    "Comuna = 'Pica'\n",
    "sample = final[final['Comuna'] == Comuna]\n",
    "sample.plot(x='fecha', y='CA cada 1000', title=Comuna, figsize=(10,5))"
   ]
  },
  {
   "cell_type": "markdown",
   "metadata": {},
   "source": [
    "---\n",
    "O concentrarnos en la evolución de la región y así observar comparativamente a la comuna *vs* su entorno:"
   ]
  },
  {
   "cell_type": "code",
   "execution_count": null,
   "metadata": {},
   "outputs": [],
   "source": [
    "Region = 'Tarapaca'\n",
    "sample2 = final[final['Region'] == Region]\n",
    "pivoted_region = sample2.pivot(index='fecha' , columns = 'Comuna', values='CA cada 1000').reset_index()\n",
    "pivoted_region.plot(x='fecha', figsize=(12,8), title='Región de' + Region + ' - CA cada 1000 habitantes')"
   ]
  },
  {
   "cell_type": "markdown",
   "metadata": {},
   "source": [
    "---\n",
    "Otro enfoque posible sería escoger una vista orientada a una provincia en específico. Si bien el archivo del Ministerio no cuenta con la clasificación comunal por provincias podemos rescatar este dato del **df** de formas que usamos para marcar las comunas en el mapa:"
   ]
  },
  {
   "cell_type": "code",
   "execution_count": null,
   "metadata": {},
   "outputs": [],
   "source": [
    "provincias_dic = df_geo[['cod_comuna', 'Provincia']]\n",
    "provincias_dic.head()"
   ]
  },
  {
   "cell_type": "code",
   "execution_count": null,
   "metadata": {},
   "outputs": [],
   "source": [
    "final_prov = final.merge(provincias_dic, left_on='Codigo comuna', right_on='cod_comuna')\n",
    "final_prov.head()"
   ]
  },
  {
   "cell_type": "code",
   "execution_count": null,
   "metadata": {},
   "outputs": [],
   "source": [
    "Provincia = 'Concepción'\n",
    "sample3 = final_prov[final_prov['Provincia'] == Provincia]\n",
    "pivoted_provincia = sample3.pivot(index='fecha' , columns = 'Comuna', values='CA cada 1000').reset_index()\n",
    "pivoted_provincia.plot(x='fecha', figsize=(12,8), title='Provincia de ' + Provincia + ' - CA cada 1000 habitantes')"
   ]
  },
  {
   "cell_type": "code",
   "execution_count": null,
   "metadata": {},
   "outputs": [],
   "source": [
    "Provincia = 'Santiago'\n",
    "sample3 = final_prov[final_prov['Provincia'] == Provincia]\n",
    "pivoted_provincia = sample3.pivot(index='fecha' , columns = 'Comuna', values='CA cada 1000').reset_index()\n",
    "pivoted_provincia.plot(x='fecha', figsize=(16,12), title='Provincia de ' + Provincia + ' - CA cada 1000 habitantes')"
   ]
  },
  {
   "cell_type": "markdown",
   "metadata": {},
   "source": [
    "Estas son solo unas primeras muestras de los múltiples **insights** que se pueden obtener de una visualización interactiva.\n",
    "\n",
    "Existen más enfoques que se pueden aplicar con los mismos productos que ofrece el Ministerio de Ciencia ya que siguen una lógica de construcción bastante similar. Es con toda la intención de proponer herramientas diferentes y didácticas que todo lo anterior ha sido presentado y explicado."
   ]
  },
  {
   "cell_type": "markdown",
   "metadata": {},
   "source": [
    "**Espero haya sido un recorrido ameno que y gracias por leer,**\n",
    "\n",
    "**Camilo Fuentes M.**"
   ]
  }
 ],
 "metadata": {
  "kernelspec": {
   "display_name": "Python 3",
   "language": "python",
   "name": "python3"
  },
  "language_info": {
   "codemirror_mode": {
    "name": "ipython",
    "version": 3
   },
   "file_extension": ".py",
   "mimetype": "text/x-python",
   "name": "python",
   "nbconvert_exporter": "python",
   "pygments_lexer": "ipython3",
   "version": "3.8.3"
  }
 },
 "nbformat": 4,
 "nbformat_minor": 4
}
